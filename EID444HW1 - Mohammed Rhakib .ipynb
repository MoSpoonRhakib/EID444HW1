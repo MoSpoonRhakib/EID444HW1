{
 "cells": [
  {
   "cell_type": "markdown",
   "metadata": {},
   "source": [
    "# EID 444 Homework 1"
   ]
  },
  {
   "cell_type": "code",
   "execution_count": null,
   "metadata": {},
   "outputs": [],
   "source": [
    "import numpy as np\n",
    "import matplotlib.pyplot as plt\n",
    "import matplotlib.animation as animation\n",
    "\n",
    "\n",
    "#r_vector is vector position of the mass 1x2 array\n",
    "\n",
    "\n",
    "\n",
    "def calc_force(r_vector, mass, k, g, l_e):\n",
    "    ''' Manually calculate the potential energy force for a pendulum\n",
    "     with a spring '''\n",
    "    \n",
    "    r_magnitude = np.linalg.norm(r_vector)\n",
    "\n",
    "    force_field = (mass * g * (r_vector/r_magnitude)) + ((0.5 * k) * ((l_e - r_magnitude)**2))\n",
    "    return force_field\n",
    "\n",
    "# Example usage\n",
    "r_vector = np.array([1.0, 1.0])  # Example position vector\n",
    "m = 1.0                   # Mass in kg\n",
    "k = 10.0                  # Spring stiffness\n",
    "g = 9.8                   # Gravitational acceleration\n",
    "l_e = 1.5                # Equilibrium length\n",
    "\n",
    "force = calc_force(r_vector, m, k, g, l_e)\n",
    "print(\"Force:\", force) "
   ]
  }
 ],
 "metadata": {
  "language_info": {
   "name": "python"
  }
 },
 "nbformat": 4,
 "nbformat_minor": 2
}
