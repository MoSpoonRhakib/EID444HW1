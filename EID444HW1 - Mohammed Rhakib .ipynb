{
 "cells": [
  {
   "cell_type": "markdown",
   "metadata": {},
   "source": [
    "# EID 444 Homework 1"
   ]
  },
  {
   "cell_type": "code",
   "execution_count": 13,
   "metadata": {},
   "outputs": [
    {
     "name": "stdout",
     "output_type": "stream",
     "text": [
      "Force: [ 0.60660172 -0.39339828]\n"
     ]
    }
   ],
   "source": [
    "import numpy as np\n",
    "import matplotlib.pyplot as plt\n",
    "import matplotlib.animation as animation\n",
    "\n",
    "\n",
    "def calc_force(r, mass, k, g, l_e):\n",
    "    ''' Manually calculate the potential energy force for a pendulum\n",
    "     with a spring '''\n",
    "    \n",
    "    r_magnitude = np.linalg.norm(r)\n",
    "\n",
    "    force_field = (k * (l_e - r_magnitude) * (r/r_magnitude)) + np.array([0, -m * g]) \n",
    "    return force_field\n",
    "\n",
    "# Example usage\n",
    "r = np.array([1.0, 1.0])  # Example position vector\n",
    "m = 1.0                   # Mass in kg\n",
    "k = 10.0                  # Spring stiffness\n",
    "g = 1.0                   # Gravitational acceleration\n",
    "l_e = 1.5                # Equilibrium length\n",
    "\n",
    "force = calc_force(r, m, k, g, l_e) #Gives F_x and F_y\n",
    "print(\"Force:\", force) "
   ]
  },
  {
   "cell_type": "markdown",
   "metadata": {},
   "source": [
    "# Verlet Step"
   ]
  },
  {
   "cell_type": "code",
   "execution_count": null,
   "metadata": {},
   "outputs": [],
   "source": [
    "def verlet_step(r_current, r_prev, t, m , k, g, l_e):\n",
    "    ''' Calculate the verlet step of the pendulum-spring \n",
    "    system'''\n",
    "\n",
    "    #Use precomputed values instead of calling function to save computation time\n",
    "\n",
    "    r_next = (2*r_current) - r_prev + (((calc_force(r_current, m, k, g, l_e)) / m) * (t**2))\n",
    "\n",
    "    return r_next\n"
   ]
  },
  {
   "cell_type": "markdown",
   "metadata": {},
   "source": [
    "# Simulation (Returns Trajectory)"
   ]
  },
  {
   "cell_type": "code",
   "execution_count": null,
   "metadata": {},
   "outputs": [],
   "source": [
    "def simulation(r_0, v_0, t, t_max, m, k, g, l_e):\n",
    "    "
   ]
  }
 ],
 "metadata": {
  "kernelspec": {
   "display_name": "base",
   "language": "python",
   "name": "python3"
  },
  "language_info": {
   "codemirror_mode": {
    "name": "ipython",
    "version": 3
   },
   "file_extension": ".py",
   "mimetype": "text/x-python",
   "name": "python",
   "nbconvert_exporter": "python",
   "pygments_lexer": "ipython3",
   "version": "3.12.4"
  }
 },
 "nbformat": 4,
 "nbformat_minor": 2
}
